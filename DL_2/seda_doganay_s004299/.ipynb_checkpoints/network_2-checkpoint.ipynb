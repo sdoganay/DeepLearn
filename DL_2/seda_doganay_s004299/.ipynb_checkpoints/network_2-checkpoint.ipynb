{
 "cells": [
  {
   "cell_type": "markdown",
   "metadata": {},
   "source": [
    "# Seda Nur Doğanay - S004299 - Computer Science"
   ]
  },
  {
   "cell_type": "markdown",
   "metadata": {},
   "source": [
    "Inside input10.py, you can see that L2 Regularization is inserted for avoiding over-fitting.\n",
    "\n",
    "Also in config.py, you can see how the total number of hidden parameters are calculated."
   ]
  },
  {
   "cell_type": "code",
   "execution_count": null,
   "metadata": {
    "collapsed": true
   },
   "outputs": [],
   "source": [
    "import config"
   ]
  },
  {
   "cell_type": "code",
   "execution_count": null,
   "metadata": {
    "collapsed": true
   },
   "outputs": [],
   "source": [
    "def initialize_network2():\n",
    "    \n",
    "    config.train_dir = '/tmp/cifar10_train_network2'\n",
    "    config.eval_dir = '/tmp/cifar10_eval_network2'\n",
    "    config.data_path= '/tmp/cifar10_data'\n",
    "    config.batch_size = 256\n",
    "\n",
    "    #set the parameters for network_1\n",
    "    config.conv1_w_shape = [5, 5, 3, 32]\n",
    "    config.conv1_b_shape = [config.conv1_w_shape[3]]\n",
    "    config.conv1_b = 0.0\n",
    "\n",
    "    # norm1\n",
    "\n",
    "    config.pool1_ksize_shape = [1, 3, 3, 1]\n",
    "    config.pool1_stride_shape = [1, 2, 2, 1]\n",
    "\n",
    "    config.conv2_w_shape = [5, 5, config.conv1_w_shape[3], 16]\n",
    "    config.conv2_b_shape = [config.conv2_w_shape[3]]\n",
    "    config.conv2_b = 0.1\n",
    "\n",
    "    # norm2\n",
    "\n",
    "    config.pool2_ksize_shape = [1, 3, 3, 1]\n",
    "    config.pool2_stride_shape = [1, 2, 2, 1]\n",
    "\n",
    "    config.local3_w_dim = 384\n",
    "    config.local3_w_shape = []  # not directly in my control\n",
    "    config.local3_b_shape = [config.local3_w_dim]\n",
    "    config.local3_b = 0.1\n",
    "\n",
    "    config.local4_w_shape = [config.local3_w_dim, 192/2]\n",
    "    config.local4_b_shape = [config.local4_w_shape[1]]\n",
    "    config.local4_b = 0.1\n",
    "\n",
    "    config.softmax_w_shape = [config.local4_w_shape[1], config.NUM_CLASSES]\n",
    "    config.softmax_b_shape = [config.NUM_CLASSES]"
   ]
  },
  {
   "cell_type": "code",
   "execution_count": null,
   "metadata": {
    "collapsed": true
   },
   "outputs": [],
   "source": [
    "initialize_network2()"
   ]
  },
  {
   "cell_type": "code",
   "execution_count": null,
   "metadata": {
    "collapsed": true
   },
   "outputs": [],
   "source": [
    "def train():\n",
    "    print(\"network_2 training starts...\")\n",
    "    import cifar10_train\n",
    "    cifar10_train.main()"
   ]
  },
  {
   "cell_type": "code",
   "execution_count": null,
   "metadata": {
    "collapsed": true
   },
   "outputs": [],
   "source": [
    "def evaluate():\n",
    "    print(\"network_2 evaluating starts...\")\n",
    "    import cifar10_eval\n",
    "    cifar10_eval.main()"
   ]
  },
  {
   "cell_type": "code",
   "execution_count": null,
   "metadata": {
    "collapsed": true
   },
   "outputs": [],
   "source": [
    "train()"
   ]
  },
  {
   "cell_type": "code",
   "execution_count": null,
   "metadata": {},
   "outputs": [],
   "source": [
    "evaluate()"
   ]
  },
  {
   "cell_type": "code",
   "execution_count": null,
   "metadata": {
    "collapsed": true
   },
   "outputs": [],
   "source": []
  }
 ],
 "metadata": {
  "kernelspec": {
   "display_name": "Python 2",
   "language": "python",
   "name": "python2"
  },
  "language_info": {
   "codemirror_mode": {
    "name": "ipython",
    "version": 2
   },
   "file_extension": ".py",
   "mimetype": "text/x-python",
   "name": "python",
   "nbconvert_exporter": "python",
   "pygments_lexer": "ipython2",
   "version": "2.7.13"
  }
 },
 "nbformat": 4,
 "nbformat_minor": 2
}
